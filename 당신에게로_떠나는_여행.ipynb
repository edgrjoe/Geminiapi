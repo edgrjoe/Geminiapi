{
  "nbformat": 4,
  "nbformat_minor": 0,
  "metadata": {
    "colab": {
      "provenance": [],
      "toc_visible": true,
      "authorship_tag": "ABX9TyOwWOkO/Fn4MoATe2G2RolF",
      "include_colab_link": true
    },
    "kernelspec": {
      "name": "python3",
      "display_name": "Python 3"
    },
    "language_info": {
      "name": "python"
    }
  },
  "cells": [
    {
      "cell_type": "markdown",
      "metadata": {
        "id": "view-in-github",
        "colab_type": "text"
      },
      "source": [
        "<a href=\"https://colab.research.google.com/github/edgrjoe/Geminiapi/blob/main/%EB%8B%B9%EC%8B%A0%EC%97%90%EA%B2%8C%EB%A1%9C_%EB%96%A0%EB%82%98%EB%8A%94_%EC%97%AC%ED%96%89.ipynb\" target=\"_parent\"><img src=\"https://colab.research.google.com/assets/colab-badge.svg\" alt=\"Open In Colab\"/></a>"
      ]
    },
    {
      "cell_type": "markdown",
      "source": [
        "# 기본세팅"
      ],
      "metadata": {
        "id": "Y3oM4LakrWy3"
      }
    },
    {
      "cell_type": "code",
      "source": [
        "!pip install -q -U google-generativeai"
      ],
      "metadata": {
        "id": "RXyRaf-DrkrT"
      },
      "execution_count": 1,
      "outputs": []
    },
    {
      "cell_type": "code",
      "source": [
        "# Import the Python SDK\n",
        "import google.generativeai as genai\n",
        "# Used to securely store your API key\n",
        "from google.colab import userdata\n",
        "\n",
        "GOOGLE_API_KEY=userdata.get('GOOGLE_API_KEY')\n",
        "genai.configure(api_key=GOOGLE_API_KEY)"
      ],
      "metadata": {
        "id": "pakrICfKro8N"
      },
      "execution_count": 2,
      "outputs": []
    },
    {
      "cell_type": "code",
      "source": [
        "model = genai.GenerativeModel('gemini-pro')"
      ],
      "metadata": {
        "id": "_gtbV9wmrx1x"
      },
      "execution_count": 3,
      "outputs": []
    },
    {
      "cell_type": "markdown",
      "source": [
        "# ...에게로 떠나는 여행"
      ],
      "metadata": {
        "id": "WL9cP_z9r0VK"
      }
    },
    {
      "cell_type": "markdown",
      "source": [
        "당신은 누구인가요? 이름 안에 감춰진 진짜 \"당신\"이란 누구입니까?"
      ],
      "metadata": {
        "id": "gTxzy1gisJDW"
      }
    },
    {
      "cell_type": "code",
      "source": [
        "print(\"당신의 이름은 무엇입니까?\")\n",
        "q1=input()"
      ],
      "metadata": {
        "colab": {
          "base_uri": "https://localhost:8080/"
        },
        "id": "u3YwZelxsIDr",
        "outputId": "37ac9ee5-e3ea-45f5-d8e1-5cd465c71741"
      },
      "execution_count": 4,
      "outputs": [
        {
          "name": "stdout",
          "output_type": "stream",
          "text": [
            "당신의 이름은 무엇입니까?\n",
            "조주완\n"
          ]
        }
      ]
    },
    {
      "cell_type": "code",
      "source": [
        "print(q1, \"님의 정신세계 속으로 여행을 떠나도록 하겠습니다.\")"
      ],
      "metadata": {
        "colab": {
          "base_uri": "https://localhost:8080/"
        },
        "id": "5XlwJ8bWtFyp",
        "outputId": "f26131f7-e71e-4093-e056-678b191f7134"
      },
      "execution_count": 6,
      "outputs": [
        {
          "output_type": "stream",
          "name": "stdout",
          "text": [
            "조주완 님의 정신세계 속으로 여행을 떠나도록 하겠습니다.\n"
          ]
        }
      ]
    },
    {
      "cell_type": "markdown",
      "source": [
        "# Gemini와의 1:1 대화"
      ],
      "metadata": {
        "id": "iD0Fng2otme8"
      }
    },
    {
      "cell_type": "code",
      "source": [
        "life_end=True\n",
        "while life_end:\n",
        "  print(\"유년시절부터 지금까지의 당신의 생애를 여행하도록 하겠습니다. 그만하고 싶으시다면 <STOP>을 써주세요\")\n",
        "  q=model.generate_content(\"Ask only one question which is to get a lifestory from interlocutor's childhood. Convert a question to korean. And repeat asking questions to answer\")\n",
        "  print(q.text)\n",
        "  a=input()\n",
        "\n",
        "  if a == \"stop\" or \"<stop>\":\n",
        "    life_end=False\n"
      ],
      "metadata": {
        "colab": {
          "base_uri": "https://localhost:8080/",
          "height": 260
        },
        "id": "grBXQ9fEtzHp",
        "outputId": "a210f6bf-8e3e-45c7-da58-9d060f533946"
      },
      "execution_count": 15,
      "outputs": [
        {
          "name": "stdout",
          "output_type": "stream",
          "text": [
            "유년시절부터 지금까지의 당신의 생애를 여행하도록 하겠습니다. 그만하고 싶으시다면 <STOP>을 써주세요\n",
            "**Korean Question:** 어렸을 때 가장 기억에 남는 일은 무엇입니까? (What is your most memorable experience from your childhood?)\n",
            "\n",
            "**Interlocutor's Response:**\n",
            "\n",
            "(Interlocutor shares a childhood memory.)\n",
            "\n",
            "**Follow-Up Questions:**\n",
            "\n",
            "* 그때 몇 살이었습니까? (How old were you at that time?)\n",
            "* 어디에 살고 있었습니까? (Where did you live?)\n",
            "* 그 경험이 당신에게 어떤 영향을 미쳤습니까? (How did that experience impact you?)\n",
            "* 그 경험을 통해 무엇을 배웠습니까? (What did you learn from that experience?)\n",
            "앙\n"
          ]
        }
      ]
    }
  ]
}